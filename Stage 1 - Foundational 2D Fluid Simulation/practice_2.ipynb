{
 "cells": [
  {
   "cell_type": "code",
   "execution_count": 1,
   "id": "57f78a3a",
   "metadata": {},
   "outputs": [],
   "source": [
    "import pysplishsplash as sph\n",
    "from pathlib import Path"
   ]
  },
  {
   "cell_type": "code",
   "execution_count": 2,
   "id": "1ef58720",
   "metadata": {},
   "outputs": [],
   "source": [
    "def main(scene_path: str):\n",
    "    base = sph.Exec.SimulatorBase()\n",
    "    print(f\"Loading scene from: {scene_path}\")\n",
    "    base.init(str(scene_path))\n",
    "    gui = sph.GUI.Simulator_GUI_imgui(base)\n",
    "    base.setGui(gui)\n",
    "    base.run()"
   ]
  },
  {
   "cell_type": "code",
   "execution_count": null,
   "id": "a2caf5f4",
   "metadata": {},
   "outputs": [],
   "source": [
    "SCENES_DIR_PATH = \"D:/Users/Leon Jovanovic/Documents/Computer Science/Computer Graphics/SPlisHSPlasH/data/Scenes\"\n",
    "SCENE_NAME = \"DamBreakWithObjects.json\"\n",
    "scene_path = f\"{SCENES_DIR_PATH}/{SCENE_NAME}\"\n",
    "main(scene_path)"
   ]
  },
  {
   "cell_type": "code",
   "execution_count": null,
   "id": "16362a16",
   "metadata": {},
   "outputs": [],
   "source": []
  }
 ],
 "metadata": {
  "kernelspec": {
   "display_name": ".venv",
   "language": "python",
   "name": "python3"
  },
  "language_info": {
   "codemirror_mode": {
    "name": "ipython",
    "version": 3
   },
   "file_extension": ".py",
   "mimetype": "text/x-python",
   "name": "python",
   "nbconvert_exporter": "python",
   "pygments_lexer": "ipython3",
   "version": "3.10.11"
  }
 },
 "nbformat": 4,
 "nbformat_minor": 5
}
